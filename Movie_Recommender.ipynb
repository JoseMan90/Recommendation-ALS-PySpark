{
 "cells": [
  {
   "cell_type": "markdown",
   "metadata": {},
   "source": [
    "## Sistema de Recomendación"
   ]
  },
  {
   "cell_type": "markdown",
   "metadata": {},
   "source": [
    "### Alumno: Jose Manuel de la Torre"
   ]
  },
  {
   "cell_type": "markdown",
   "metadata": {},
   "source": [
    "En este ejercicio práctico de la asignatura de Big Data se plantea realizar un sistema de recomendación de películas, basándonos en los ficheros adjuntados en el aula virtual, que contienen información sobre movies, ratings y usuarios. \n",
    "Para completar el ejercicio se utilizará el algoritmo ALS (Alternating Least Squares), que funciona realizando factorización de matrices. \n",
    "Se decide usar este algoritmo después de cursar el curso en datacamp \"Building Recommendation Engines with PySpark\", y seguir las pautas y recomendaciones aprendidas en el mismo."
   ]
  },
  {
   "cell_type": "code",
   "execution_count": 1,
   "metadata": {},
   "outputs": [],
   "source": [
    "#Importación de librerías necesarias\n",
    "import pyspark\n",
    "from pyspark.sql import SparkSession\n",
    "import pyspark.sql.functions\n",
    "from pyspark.ml.recommendation import ALS\n",
    "from pyspark.ml.evaluation import RegressionEvaluator\n",
    "from pyspark.sql.types import IntegerType\n",
    "from pyspark.ml.tuning import CrossValidator, ParamGridBuilder"
   ]
  },
  {
   "cell_type": "markdown",
   "metadata": {},
   "source": [
    "Y creamos una sesión de Spark, con la que trabajaremos a los largo de este notebook"
   ]
  },
  {
   "cell_type": "code",
   "execution_count": 2,
   "metadata": {},
   "outputs": [],
   "source": [
    "spark = SparkSession.builder.getOrCreate()"
   ]
  },
  {
   "cell_type": "markdown",
   "metadata": {},
   "source": [
    "### Carga de Datos\n",
    "\n",
    "Pasamos a cargar los datos a un dataframe que nombraremos df, y del cual haremos uso extensivo a lo largo de este proyecto. Algunos parámetros son bastante obvios de configurar con tan solo mirar el conjunto de datos rápidamente, solamente es importante mencionar que defino la opción de separador como \",\", cuando claramente el fichero esta dividido por \"::\", porque spark no me permite definir como divisor una cadena de más de un elemento, y por tanto a continuación tendremos que dividir el dataset leído por este string de doble punto."
   ]
  },
  {
   "cell_type": "code",
   "execution_count": 3,
   "metadata": {},
   "outputs": [
    {
     "name": "stdout",
     "output_type": "stream",
     "text": [
      "+--------------------+\n",
      "|                 _c0|\n",
      "+--------------------+\n",
      "|1::1193::5::97830...|\n",
      "|1::661::3::978302109|\n",
      "|1::914::3::978301968|\n",
      "|1::3408::4::97830...|\n",
      "|1::2355::5::97882...|\n",
      "+--------------------+\n",
      "only showing top 5 rows\n",
      "\n"
     ]
    }
   ],
   "source": [
    "df = spark.read.format(\"csv\") \\\n",
    "  .option(\"inferSchema\", False) \\\n",
    "  .option(\"header\", False) \\\n",
    "  .option(\"sep\", \",\") \\\n",
    "  .load(\"ml-1m/ratings.csv\")\n",
    "\n",
    "df.show(5)"
   ]
  },
  {
   "cell_type": "markdown",
   "metadata": {},
   "source": [
    "Como podemos apreciar, hemos leído correctamente el dataset que nos interesa, pero tenemos un primer contratiempo, no se encuentra estructurado y nos interesa a continuación convertir la columna \"_c0\", a un conjunto de columnas usuario, Id de película y rating de la misma. "
   ]
  },
  {
   "cell_type": "code",
   "execution_count": 4,
   "metadata": {},
   "outputs": [
    {
     "name": "stdout",
     "output_type": "stream",
     "text": [
      "+------+-------+------+\n",
      "|userId|movieId|rating|\n",
      "+------+-------+------+\n",
      "|     1|   1193|     5|\n",
      "|     1|    661|     3|\n",
      "|     1|    914|     3|\n",
      "|     1|   3408|     4|\n",
      "|     1|   2355|     5|\n",
      "+------+-------+------+\n",
      "only showing top 5 rows\n",
      "\n"
     ]
    }
   ],
   "source": [
    "split_char = pyspark.sql.functions.split(df['_c0'], '::')\n",
    "df = df.withColumn('userId', split_char.getItem(0))\n",
    "df = df.withColumn('movieId', split_char.getItem(1))\n",
    "df = df.withColumn('rating', split_char.getItem(2))\n",
    "\n",
    "df=df.drop(\"_c0\")\n",
    "df.show(5)"
   ]
  },
  {
   "cell_type": "markdown",
   "metadata": {},
   "source": [
    "Con el dataset en la estructura que nos interesa, hacemos la comprobación de los tipos de datos que contiene por columna nuestro dataset. La función printSchema, nos da esta respuesta en una sencilla instrucción. Para a continuación convertirlo a los tipos de datos que deseamos manipula para el ejercicio."
   ]
  },
  {
   "cell_type": "code",
   "execution_count": 5,
   "metadata": {},
   "outputs": [
    {
     "name": "stdout",
     "output_type": "stream",
     "text": [
      "root\n",
      " |-- userId: string (nullable = true)\n",
      " |-- movieId: string (nullable = true)\n",
      " |-- rating: string (nullable = true)\n",
      "\n"
     ]
    }
   ],
   "source": [
    "df.printSchema()"
   ]
  },
  {
   "cell_type": "code",
   "execution_count": 6,
   "metadata": {},
   "outputs": [
    {
     "name": "stdout",
     "output_type": "stream",
     "text": [
      "+------+-------+------+\n",
      "|userId|movieId|rating|\n",
      "+------+-------+------+\n",
      "|     1|   1193|   5.0|\n",
      "|     1|    661|   3.0|\n",
      "|     1|    914|   3.0|\n",
      "|     1|   3408|   4.0|\n",
      "|     1|   2355|   5.0|\n",
      "+------+-------+------+\n",
      "only showing top 5 rows\n",
      "\n"
     ]
    }
   ],
   "source": [
    "# Tell Spark to convert the columns to the proper data types\n",
    "df = df.select(df.userId.cast(\"integer\"), \n",
    "               df.movieId.cast(\"integer\"), \n",
    "               df.rating.cast(\"double\"))\n",
    "df.show(5)"
   ]
  },
  {
   "cell_type": "code",
   "execution_count": 7,
   "metadata": {},
   "outputs": [],
   "source": [
    "# Dividimos el conjunto en entrenamiento y test\n",
    "(train, test) = df.randomSplit([0.80, 0.20], seed = 1234)"
   ]
  },
  {
   "cell_type": "markdown",
   "metadata": {},
   "source": [
    "## Modelo ALS\n",
    "\n",
    "El algoritmo ALS presenta una alternativa altamente paralelizable para la optimización de la función de coste que implica la factorización de la matriz de interacciones usuarios-ítems con regularización de pesos.\n",
    "\n",
    "La API de Apache Spark para Python, PySpark, en su librería Mlib ofrece una implementación paralelizada del modelo ALS para Filtrado Colaborativo que usaremos en el desarrollo del sistema de recomendación basado en predicción de ratings.\n",
    "\n",
    "Se define el modelo ALS a continuación, por el momento sin incluirle hiperparámetros al mismo, solamente creamos el objeto de tipo modelo ALS por el momento, definiendo las columnas que utilizaremos y algunos detalles necesarios. "
   ]
  },
  {
   "cell_type": "code",
   "execution_count": 8,
   "metadata": {},
   "outputs": [],
   "source": [
    "# Build generic ALS model without hyperparameters\n",
    "als = ALS(userCol=\"userId\", itemCol=\"movieId\", ratingCol=\"rating\", \n",
    "            coldStartStrategy=\"drop\", nonnegative = True, \n",
    "            implicitPrefs = False)"
   ]
  },
  {
   "cell_type": "markdown",
   "metadata": {},
   "source": [
    "### Hiperparámetros\n",
    "\n",
    "Se definene el conjunto de hiperparámetros que probaremos en nuestro modelo mediante una validación cruzada que se define más adelante, y por motivos de recursos de computador no realizamos un chequeo extensivo de los parámetros, ya que serían necesarios recursos realmente potentes para encontrar los hiperparámetros \"perfectos\" para el modelo que se crea."
   ]
  },
  {
   "cell_type": "code",
   "execution_count": 9,
   "metadata": {},
   "outputs": [],
   "source": [
    "## Tell Spark what values to try for each hyperparameter\n",
    "ranks = [5, 10]\n",
    "Iteration = [5, 10]\n",
    "regularization = [.05, .1]\n",
    "\n",
    "param_grid = ParamGridBuilder()\\\n",
    "    .addGrid(als.rank, ranks)\\\n",
    "    .addGrid(als.maxIter, Iteration)\\\n",
    "    .addGrid(als.regParam, regularization)\\\n",
    "    .build()"
   ]
  },
  {
   "cell_type": "code",
   "execution_count": 10,
   "metadata": {},
   "outputs": [],
   "source": [
    "# Tell Spark how to evaluate model performance           \n",
    "evaluator = RegressionEvaluator(metricName=\"rmse\", labelCol=\"rating\", \n",
    "            predictionCol=\"prediction\")"
   ]
  },
  {
   "cell_type": "code",
   "execution_count": 11,
   "metadata": {},
   "outputs": [],
   "source": [
    "# Build cross validation step using CrossValidator \n",
    "cv = CrossValidator(estimator = als,\n",
    "                    estimatorParamMaps = param_grid,\n",
    "                    evaluator = evaluator,\n",
    "                    numFolds = 5)"
   ]
  },
  {
   "cell_type": "markdown",
   "metadata": {},
   "source": [
    "### Entrenamiento del Modelo"
   ]
  },
  {
   "cell_type": "markdown",
   "metadata": {},
   "source": [
    "Por motivos de coste computacional, no se recomienda ejecutar el chunk siguiente ya que puede tardar varias horas en su ejecución para encontrar mediante la validación cruzada el mejor modelo para el conjunto de datos."
   ]
  },
  {
   "cell_type": "code",
   "execution_count": null,
   "metadata": {},
   "outputs": [],
   "source": [
    "# Run the cv on the training data                    \n",
    "model = cv.fit(train)\n",
    "\n",
    "# Extract best combination of values from cross validation\n",
    "best_model = model.bestModel\n",
    "\n",
    "# Complete the code below to extract the ALS model parameters\n",
    "print(\"**Best Model**\")"
   ]
  },
  {
   "cell_type": "code",
   "execution_count": 20,
   "metadata": {},
   "outputs": [],
   "source": [
    "# # Print \"Rank\"\n",
    "print(\"  Rank:\", model.getRank())\n",
    "# # Print \"MaxIter\"\n",
    "print(\"  MaxIter:\", model.getMaxIter())\n",
    "# # Print \"RegParam\"\n",
    "print(\"  RegParam:\", model.getRegParam())"
   ]
  },
  {
   "cell_type": "markdown",
   "metadata": {},
   "source": [
    "Se obtienen como resultado de la ejecución anterior los parámetros de:\n",
    "\n",
    "<b>Rank</b> = 10\n",
    "<b>Regularización</b> = 0.1\n",
    "<b>Iteraciones</b> = 10\n",
    "\n",
    "Y por tanto, creamos a continuación un modelo con los hiperparámetros obtenidos, y también a modo de prueba y para poder ejecutar varias veces el notebook, ya que el experimento con Cross Validation puede tardar demasiado tiempo, del cual no se dispone.\n"
   ]
  },
  {
   "cell_type": "code",
   "execution_count": 12,
   "metadata": {},
   "outputs": [],
   "source": [
    "#Modelo final\n",
    "als = ALS(regParam=0.1, rank=10, maxIter=10, userCol=\"userId\", \n",
    "          itemCol=\"movieId\", ratingCol=\"rating\",  seed=42, nonnegative=True, \n",
    "          implicitPrefs=False, coldStartStrategy=\"drop\")\n",
    "model = als.fit(train)"
   ]
  },
  {
   "cell_type": "markdown",
   "metadata": {},
   "source": [
    "## Distribución Ratings"
   ]
  },
  {
   "cell_type": "code",
   "execution_count": 24,
   "metadata": {},
   "outputs": [
    {
     "data": {
      "text/plain": [
       "<matplotlib.axes._subplots.AxesSubplot at 0x246693370b8>"
      ]
     },
     "execution_count": 24,
     "metadata": {},
     "output_type": "execute_result"
    },
    {
     "data": {
      "image/png": "[encoded data removed]",
      "text/plain": [
       "<Figure size 432x288 with 1 Axes>"
      ]
     },
     "metadata": {
      "needs_background": "light"
     },
     "output_type": "display_data"
    }
   ],
   "source": [
    "import seaborn as sns\n",
    "\n",
    "# Convert Spark dataframe to Pandas to plot data distribution\n",
    "pandas_df = df.limit(10000).toPandas()\n",
    "# Ratings distribution for a sample of 10000 users\n",
    "sns.violinplot([pandas_df.rating])"
   ]
  },
  {
   "cell_type": "markdown",
   "metadata": {},
   "source": [
    "Se muestra en la figura anterior un pequeño vistazo a la distribución que queremos testear, pudiendo resaltar, que un resultado cercano a los 4 puntos es predecible, al menos sin analizar los datos con mucho detalle. Pero se puede apreciar, como las opiniones positivas, o mayores o iguales a 3 prevalecen en el dataset."
   ]
  },
  {
   "cell_type": "markdown",
   "metadata": {},
   "source": [
    "### Resultados \n",
    "\n",
    "Se evalua las predicciones en el siguiente cuadro de código, con la métrica RMSE ó Root Mean Square Error, que nos mide cuando diferente es un conjunto de datos con respecto a otro, en otras palabras compara los valores predecidos con los valores reales almacenados en test."
   ]
  },
  {
   "cell_type": "code",
   "execution_count": 15,
   "metadata": {},
   "outputs": [
    {
     "name": "stdout",
     "output_type": "stream",
     "text": [
      "**Best Model**\n",
      "RMSE =  0.8745238748925711\n"
     ]
    }
   ],
   "source": [
    "# Generate test set predictions and evaluate using RMSE\n",
    "predictions = model.transform(test)\n",
    "rmse = evaluator.evaluate(predictions)\n",
    "\n",
    "# Print evaluation metrics and model parameters\n",
    "print (\"**Best Model**\")\n",
    "print (\"RMSE = \", rmse)"
   ]
  },
  {
   "cell_type": "markdown",
   "metadata": {},
   "source": [
    "### Predicciones"
   ]
  },
  {
   "cell_type": "markdown",
   "metadata": {},
   "source": [
    "Por último, y para una validación final de resultados al menos de forma visual, se predice en el conjunto de test, eliminando la columna ratings, para obtener y mostrar en el último chunk del proyecto una muestra de 10 filas de las predicciones que es capaz de obtener el modelo creado. "
   ]
  },
  {
   "cell_type": "code",
   "execution_count": 16,
   "metadata": {},
   "outputs": [],
   "source": [
    "test_no_rating = test.drop(\"rating\")\n",
    "\n",
    "predictions = model.transform(test_no_rating)\n",
    "ratings_predictions = test.join(predictions,[\"userId\",\"movieId\"])"
   ]
  },
  {
   "cell_type": "code",
   "execution_count": 18,
   "metadata": {},
   "outputs": [
    {
     "name": "stdout",
     "output_type": "stream",
     "text": [
      "+------+-------+------+----------+\n",
      "|userId|movieId|rating|prediction|\n",
      "+------+-------+------+----------+\n",
      "|     1|   2762|   4.0| 4.2865815|\n",
      "|     1|      1|   5.0| 4.2215652|\n",
      "|     1|    150|   5.0|  4.157282|\n",
      "|     1|   2398|   4.0|  4.124039|\n",
      "|     1|   1270|   5.0| 4.0787444|\n",
      "|     1|   1287|   5.0|  4.053317|\n",
      "|     1|   1962|   4.0|  4.026748|\n",
      "|     1|   2791|   4.0| 3.7300913|\n",
      "|     1|    783|   4.0| 3.4054606|\n",
      "|     1|     48|   5.0| 3.1469345|\n",
      "+------+-------+------+----------+\n",
      "only showing top 10 rows\n",
      "\n"
     ]
    }
   ],
   "source": [
    "recommendations=ratings_predictions.filter(ratings_predictions[\"userID\"]==1)\\\n",
    "                    .orderBy(ratings_predictions[\"prediction\"].desc())\n",
    "recommendations.show(10)"
   ]
  }
 ],
 "metadata": {
  "kernelspec": {
   "display_name": "Python 3",
   "language": "python",
   "name": "python3"
  },
  "language_info": {
   "codemirror_mode": {
    "name": "ipython",
    "version": 3
   },
   "file_extension": ".py",
   "mimetype": "text/x-python",
   "name": "python",
   "nbconvert_exporter": "python",
   "pygments_lexer": "ipython3",
   "version": "3.6.8"
  }
 },
 "nbformat": 4,
 "nbformat_minor": 2
}
